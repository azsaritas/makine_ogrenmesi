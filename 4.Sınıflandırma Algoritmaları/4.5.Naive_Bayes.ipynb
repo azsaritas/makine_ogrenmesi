{
 "cells": [
  {
   "cell_type": "markdown",
   "id": "866f4fe7",
   "metadata": {},
   "source": [
    "## Naive Bayes Nedir?\n",
    "\n",
    "Naive Bayes temeli bayes teoremine dayanan bir sınıflandırma algoritmasıdır. Naive Bayes sınıflandırması olasılık ilkelerine göre tanımlanmış bir dizi hesaplama ile, sisteme sunulan verilerin sınıfını yani kategorisini tespit etmeyi amaçlar. Lazy (tembel) bir öğrenme algoritmasıdır aynı zamanda dengesiz veri kümelerinde de çalışabilir. Algoritmanın çalışma şekli bir eleman için her durumun olasılığını hesaplar ve olasılık değeri en yüksek olana göre sınıflandırır. Az bir eğitim verisiyle çok başarılı işler çıkartabilir. \n",
    "\n",
    "Naive Bayes sınıflandırmasında sisteme belirli bir oranda öğretilmiş veri sunulur. Öğretim için sunulan verilerin mutlaka bir sınıfı bulunmalıdır. Öğretilmiş veriler üzerinde yapılan olasılık işlemleri ile, sisteme sunulan yeni test verileri, daha önce elde edilmiş olasılık değerlerine göre işletvilir ve verilen test verisinin hangi kategoride olduğu tespit edilmeye çalışılır. Elbette öğretilmiş veri sayısı ne kadar çok ise, test verisinin gerçek kategorisini tespit etmek o kadar kesin olabilmektedir.\n",
    "\n",
    "<img src=\"https://github.com/azsaritas/makine_ogrenmesi/blob/main/dosyalar/naive_bayes/naivebayes.png?raw=true\" width=\"400\">\n",
    "\n",
    "P(A|B) = B’nin doğru olduğu bilindiğinde A’nın olma olasılığı\n",
    "\n",
    "P(B|A) = A’nın doğru olduğu bilindiğinde B’nin olma olasılığı\n",
    "\n",
    "P(A) = A’nın olma olasılığı\n",
    "\n",
    "P(B) = B’nin olma olasılığı"
   ]
  },
  {
   "cell_type": "markdown",
   "id": "cdce41e5",
   "metadata": {},
   "source": [
    "##### Örnek bir bayes hesaplaması\n",
    "Hava durumuna göre futbol oynanabilme durumu hesaplanıyor.\n",
    "<img src=\"https://github.com/azsaritas/makine_ogrenmesi/blob/main/dosyalar/naive_bayes/veri_bayesian_01.jpg?raw=true\" width=\"150\">\n",
    "\n",
    "<img src=\"https://github.com/azsaritas/makine_ogrenmesi/blob/main/dosyalar/naive_bayes/veri_bayesian_02_.jpg?raw=true\" width=\"450\">\n",
    "\n",
    "\n",
    "- Beklenti 1: Güneşliyken Futbol Oyna Evet = P(Evet | Güneşli) = P(Güneşli | Evet) * P(Evet) / P (Güneşli)\n",
    "P (Güneşli |Evet) = 3/9 = 0.333, P(Güneşli) = 5/14 = 0.357, P(Evet)= 9/14 = 0.643\n",
    "P (Evet | Güneşli) = 0.333 * 0.643 / 0.357 = 0.600\n",
    "\n",
    "- Beklenti 2: Güneşliyken Futbol Oyna Hayır = P(Hayır | Güneşli) = P(Güneşli | Hayır) * P(Hayır) / P (Güneşli)\n",
    "P (Güneşli | Hayır) = 2/9 = 0.222, P(Güneşli) = 5/14 = 0.357, P(Hayır)= 5/14 = 0.357\n",
    "P (Hayır | Güneşli) = 0.222 * 0.357 / 0.357 = 0.222\n",
    "\n",
    "Son aşamada beklenti 1 ile beklenti 2 kıyaslanır. Beklenti 1 daha büyük değere sahip olduğu için seçilir. Naive Bayes havayı güneşli gördüğünde futbol oynamaya izin verir."
   ]
  },
  {
   "cell_type": "markdown",
   "id": "43e40226",
   "metadata": {},
   "source": [
    "## Naive Bayes Örnek Uygulama\n",
    "Bu uygulamada sosyal medyada kullanıcıların reklamını gördükleri bir ürünü alıp almadıklarının kaydını içeren bir veri seti ile naive bayes kullanılarak sınıflandırma yapılıyor."
   ]
  },
  {
   "cell_type": "code",
   "execution_count": 1,
   "id": "1bc4a72f",
   "metadata": {},
   "outputs": [],
   "source": [
    "import numpy as np\n",
    "import matplotlib.pyplot as plt\n",
    "import pandas as pd\n",
    "\n",
    "dataset = pd.read_csv('https://raw.githubusercontent.com/azsaritas/makine_ogrenmesi/main/dosyalar/naive_bayes/SosyalMedyaReklamKampanyasi.csv')"
   ]
  },
  {
   "cell_type": "markdown",
   "id": "8ef2b890",
   "metadata": {},
   "source": [
    "##### Gerekli kütüphaneleri ve veri setini import ediyoruz.\n",
    "#### Veri setinde KullaniciID, Cinsiyet, Yaş, TahminiMaas, SatinAldiMi gibi verilerimiz var. Hedef değişken SatinAldiMi’dir. Diğer dört nitelik ise bağımsız niteliklerdir. Bu bağımsız niteliklerle bağımlı nitelik (satın alma davranışının gerçekleşip gerçekleşmeyeceği) tahmin edilecek."
   ]
  },
  {
   "cell_type": "code",
   "execution_count": 2,
   "id": "46e16988",
   "metadata": {},
   "outputs": [
    {
     "data": {
      "text/html": [
       "<div>\n",
       "<style scoped>\n",
       "    .dataframe tbody tr th:only-of-type {\n",
       "        vertical-align: middle;\n",
       "    }\n",
       "\n",
       "    .dataframe tbody tr th {\n",
       "        vertical-align: top;\n",
       "    }\n",
       "\n",
       "    .dataframe thead th {\n",
       "        text-align: right;\n",
       "    }\n",
       "</style>\n",
       "<table border=\"1\" class=\"dataframe\">\n",
       "  <thead>\n",
       "    <tr style=\"text-align: right;\">\n",
       "      <th></th>\n",
       "      <th>KullaniciID</th>\n",
       "      <th>Cinsiyet</th>\n",
       "      <th>Yas</th>\n",
       "      <th>TahminiMaas</th>\n",
       "      <th>SatinAldiMi</th>\n",
       "    </tr>\n",
       "  </thead>\n",
       "  <tbody>\n",
       "    <tr>\n",
       "      <th>0</th>\n",
       "      <td>15624510</td>\n",
       "      <td>Erkek</td>\n",
       "      <td>19</td>\n",
       "      <td>19000</td>\n",
       "      <td>0</td>\n",
       "    </tr>\n",
       "    <tr>\n",
       "      <th>1</th>\n",
       "      <td>15810944</td>\n",
       "      <td>Erkek</td>\n",
       "      <td>35</td>\n",
       "      <td>20000</td>\n",
       "      <td>0</td>\n",
       "    </tr>\n",
       "    <tr>\n",
       "      <th>2</th>\n",
       "      <td>15668575</td>\n",
       "      <td>Kadın</td>\n",
       "      <td>26</td>\n",
       "      <td>43000</td>\n",
       "      <td>0</td>\n",
       "    </tr>\n",
       "    <tr>\n",
       "      <th>3</th>\n",
       "      <td>15603246</td>\n",
       "      <td>Kadın</td>\n",
       "      <td>27</td>\n",
       "      <td>57000</td>\n",
       "      <td>0</td>\n",
       "    </tr>\n",
       "    <tr>\n",
       "      <th>4</th>\n",
       "      <td>15804002</td>\n",
       "      <td>Erkek</td>\n",
       "      <td>19</td>\n",
       "      <td>76000</td>\n",
       "      <td>0</td>\n",
       "    </tr>\n",
       "    <tr>\n",
       "      <th>5</th>\n",
       "      <td>15728773</td>\n",
       "      <td>Erkek</td>\n",
       "      <td>27</td>\n",
       "      <td>58000</td>\n",
       "      <td>0</td>\n",
       "    </tr>\n",
       "    <tr>\n",
       "      <th>6</th>\n",
       "      <td>15598044</td>\n",
       "      <td>Kadın</td>\n",
       "      <td>27</td>\n",
       "      <td>84000</td>\n",
       "      <td>0</td>\n",
       "    </tr>\n",
       "    <tr>\n",
       "      <th>7</th>\n",
       "      <td>15694829</td>\n",
       "      <td>Kadın</td>\n",
       "      <td>32</td>\n",
       "      <td>150000</td>\n",
       "      <td>1</td>\n",
       "    </tr>\n",
       "  </tbody>\n",
       "</table>\n",
       "</div>"
      ],
      "text/plain": [
       "   KullaniciID Cinsiyet  Yas  TahminiMaas  SatinAldiMi\n",
       "0     15624510    Erkek   19        19000            0\n",
       "1     15810944    Erkek   35        20000            0\n",
       "2     15668575    Kadın   26        43000            0\n",
       "3     15603246    Kadın   27        57000            0\n",
       "4     15804002    Erkek   19        76000            0\n",
       "5     15728773    Erkek   27        58000            0\n",
       "6     15598044    Kadın   27        84000            0\n",
       "7     15694829    Kadın   32       150000            1"
      ]
     },
     "execution_count": 2,
     "metadata": {},
     "output_type": "execute_result"
    }
   ],
   "source": [
    "dataset.head(8)"
   ]
  },
  {
   "cell_type": "markdown",
   "id": "f815f254",
   "metadata": {},
   "source": [
    "#### Veri setini bağımlı ve bağımsız değişkenlere ayırıyoruz."
   ]
  },
  {
   "cell_type": "code",
   "execution_count": 3,
   "id": "87995fc0",
   "metadata": {},
   "outputs": [],
   "source": [
    "X = dataset.iloc[:, [2,3]].values\n",
    "y = dataset.iloc[:, 4].values"
   ]
  },
  {
   "cell_type": "markdown",
   "id": "df9f0b0a",
   "metadata": {},
   "source": [
    "#### Veri setini eğitim ve test kümesi olarak parçalıyoruz."
   ]
  },
  {
   "cell_type": "code",
   "execution_count": 4,
   "id": "074b4528",
   "metadata": {},
   "outputs": [],
   "source": [
    "from sklearn.model_selection import train_test_split\n",
    "X_train, X_test, y_train, y_test = train_test_split(X, y, test_size = 0.25, random_state = 0)"
   ]
  },
  {
   "cell_type": "markdown",
   "id": "7f6f8705",
   "metadata": {},
   "source": [
    "#### Birimleri aynı hale getirmek için normalizasyon uyguluyoruz."
   ]
  },
  {
   "cell_type": "code",
   "execution_count": 5,
   "id": "aa092bd2",
   "metadata": {},
   "outputs": [],
   "source": [
    "from sklearn.preprocessing import StandardScaler\n",
    "sc_X = StandardScaler()\n",
    "X_train = sc_X.fit_transform(X_train)\n",
    "X_test = sc_X.transform(X_test)"
   ]
  },
  {
   "cell_type": "markdown",
   "id": "79ab0500",
   "metadata": {},
   "source": [
    "#### Naive Bayes oluşturuyoruz ve eğitiyoruz."
   ]
  },
  {
   "cell_type": "code",
   "execution_count": 6,
   "id": "0a0f1bf4",
   "metadata": {},
   "outputs": [
    {
     "data": {
      "text/html": [
       "<style>#sk-container-id-1 {color: black;}#sk-container-id-1 pre{padding: 0;}#sk-container-id-1 div.sk-toggleable {background-color: white;}#sk-container-id-1 label.sk-toggleable__label {cursor: pointer;display: block;width: 100%;margin-bottom: 0;padding: 0.3em;box-sizing: border-box;text-align: center;}#sk-container-id-1 label.sk-toggleable__label-arrow:before {content: \"▸\";float: left;margin-right: 0.25em;color: #696969;}#sk-container-id-1 label.sk-toggleable__label-arrow:hover:before {color: black;}#sk-container-id-1 div.sk-estimator:hover label.sk-toggleable__label-arrow:before {color: black;}#sk-container-id-1 div.sk-toggleable__content {max-height: 0;max-width: 0;overflow: hidden;text-align: left;background-color: #f0f8ff;}#sk-container-id-1 div.sk-toggleable__content pre {margin: 0.2em;color: black;border-radius: 0.25em;background-color: #f0f8ff;}#sk-container-id-1 input.sk-toggleable__control:checked~div.sk-toggleable__content {max-height: 200px;max-width: 100%;overflow: auto;}#sk-container-id-1 input.sk-toggleable__control:checked~label.sk-toggleable__label-arrow:before {content: \"▾\";}#sk-container-id-1 div.sk-estimator input.sk-toggleable__control:checked~label.sk-toggleable__label {background-color: #d4ebff;}#sk-container-id-1 div.sk-label input.sk-toggleable__control:checked~label.sk-toggleable__label {background-color: #d4ebff;}#sk-container-id-1 input.sk-hidden--visually {border: 0;clip: rect(1px 1px 1px 1px);clip: rect(1px, 1px, 1px, 1px);height: 1px;margin: -1px;overflow: hidden;padding: 0;position: absolute;width: 1px;}#sk-container-id-1 div.sk-estimator {font-family: monospace;background-color: #f0f8ff;border: 1px dotted black;border-radius: 0.25em;box-sizing: border-box;margin-bottom: 0.5em;}#sk-container-id-1 div.sk-estimator:hover {background-color: #d4ebff;}#sk-container-id-1 div.sk-parallel-item::after {content: \"\";width: 100%;border-bottom: 1px solid gray;flex-grow: 1;}#sk-container-id-1 div.sk-label:hover label.sk-toggleable__label {background-color: #d4ebff;}#sk-container-id-1 div.sk-serial::before {content: \"\";position: absolute;border-left: 1px solid gray;box-sizing: border-box;top: 0;bottom: 0;left: 50%;z-index: 0;}#sk-container-id-1 div.sk-serial {display: flex;flex-direction: column;align-items: center;background-color: white;padding-right: 0.2em;padding-left: 0.2em;position: relative;}#sk-container-id-1 div.sk-item {position: relative;z-index: 1;}#sk-container-id-1 div.sk-parallel {display: flex;align-items: stretch;justify-content: center;background-color: white;position: relative;}#sk-container-id-1 div.sk-item::before, #sk-container-id-1 div.sk-parallel-item::before {content: \"\";position: absolute;border-left: 1px solid gray;box-sizing: border-box;top: 0;bottom: 0;left: 50%;z-index: -1;}#sk-container-id-1 div.sk-parallel-item {display: flex;flex-direction: column;z-index: 1;position: relative;background-color: white;}#sk-container-id-1 div.sk-parallel-item:first-child::after {align-self: flex-end;width: 50%;}#sk-container-id-1 div.sk-parallel-item:last-child::after {align-self: flex-start;width: 50%;}#sk-container-id-1 div.sk-parallel-item:only-child::after {width: 0;}#sk-container-id-1 div.sk-dashed-wrapped {border: 1px dashed gray;margin: 0 0.4em 0.5em 0.4em;box-sizing: border-box;padding-bottom: 0.4em;background-color: white;}#sk-container-id-1 div.sk-label label {font-family: monospace;font-weight: bold;display: inline-block;line-height: 1.2em;}#sk-container-id-1 div.sk-label-container {text-align: center;}#sk-container-id-1 div.sk-container {/* jupyter's `normalize.less` sets `[hidden] { display: none; }` but bootstrap.min.css set `[hidden] { display: none !important; }` so we also need the `!important` here to be able to override the default hidden behavior on the sphinx rendered scikit-learn.org. See: https://github.com/scikit-learn/scikit-learn/issues/21755 */display: inline-block !important;position: relative;}#sk-container-id-1 div.sk-text-repr-fallback {display: none;}</style><div id=\"sk-container-id-1\" class=\"sk-top-container\"><div class=\"sk-text-repr-fallback\"><pre>GaussianNB()</pre><b>In a Jupyter environment, please rerun this cell to show the HTML representation or trust the notebook. <br />On GitHub, the HTML representation is unable to render, please try loading this page with nbviewer.org.</b></div><div class=\"sk-container\" hidden><div class=\"sk-item\"><div class=\"sk-estimator sk-toggleable\"><input class=\"sk-toggleable__control sk-hidden--visually\" id=\"sk-estimator-id-1\" type=\"checkbox\" checked><label for=\"sk-estimator-id-1\" class=\"sk-toggleable__label sk-toggleable__label-arrow\">GaussianNB</label><div class=\"sk-toggleable__content\"><pre>GaussianNB()</pre></div></div></div></div></div>"
      ],
      "text/plain": [
       "GaussianNB()"
      ]
     },
     "execution_count": 6,
     "metadata": {},
     "output_type": "execute_result"
    }
   ],
   "source": [
    "from sklearn.naive_bayes import GaussianNB\n",
    "classifier = GaussianNB()\n",
    "classifier.fit(X_train, y_train)"
   ]
  },
  {
   "cell_type": "markdown",
   "id": "3655c333",
   "metadata": {},
   "source": [
    "#### Test setimizi kullanarak tahmin yapıyoruz."
   ]
  },
  {
   "cell_type": "code",
   "execution_count": 7,
   "id": "28c57252",
   "metadata": {},
   "outputs": [],
   "source": [
    "y_pred = classifier.predict(X_test)"
   ]
  },
  {
   "cell_type": "markdown",
   "id": "f25155f2",
   "metadata": {},
   "source": [
    "#### Hata matrisi oluşturuyoruz."
   ]
  },
  {
   "cell_type": "code",
   "execution_count": 8,
   "id": "214d8693",
   "metadata": {},
   "outputs": [
    {
     "data": {
      "text/plain": [
       "array([[65,  3],\n",
       "       [ 7, 25]], dtype=int64)"
      ]
     },
     "execution_count": 8,
     "metadata": {},
     "output_type": "execute_result"
    }
   ],
   "source": [
    "from sklearn.metrics import confusion_matrix\n",
    "from numpy import array\n",
    "cm = confusion_matrix(y_test, y_pred)\n",
    "cm \n"
   ]
  },
  {
   "cell_type": "markdown",
   "id": "5c601357",
   "metadata": {},
   "source": [
    "#### Burada 3+7= 10 adet hatalı sınıflandırma olduğu görülüyör.\n",
    "#### Test setimizin grafiğini çizdiriyoruz."
   ]
  },
  {
   "cell_type": "code",
   "execution_count": 9,
   "id": "134747ea",
   "metadata": {},
   "outputs": [
    {
     "data": {
      "image/png": "[encoded data removed]",
      "text/plain": [
       "<Figure size 640x480 with 1 Axes>"
      ]
     },
     "metadata": {},
     "output_type": "display_data"
    }
   ],
   "source": [
    "from matplotlib.colors import ListedColormap\n",
    "import warnings\n",
    "warnings.filterwarnings(\"ignore\")\n",
    "X_set, y_set = X_test, y_test\n",
    "X1, X2 = np.meshgrid(np.arange(start = X_set[:, 0].min() - 1, stop = X_set[:, 0].max() + 1, step = 0.01),\n",
    "                     np.arange(start = X_set[:, 1].min() - 1, stop = X_set[:, 1].max() + 1, step = 0.01))\n",
    "plt.contourf(X1, X2, classifier.predict(np.array([X1.ravel(), X2.ravel()]).T).reshape(X1.shape),\n",
    "             alpha = 0.75, cmap = ListedColormap(('red', 'green')))\n",
    "plt.xlim(X1.min(), X1.max())\n",
    "plt.ylim(X2.min(), X2.max())\n",
    "for i, j in enumerate(np.unique(y_set)):\n",
    "       plt.scatter(X_set[y_set == j, 0], X_set[y_set == j, 1],\n",
    "                   c = ListedColormap(('Yellow', 'Black'))(i), label = j)\n",
    "plt.title('Naive Bayes (Test Seti)')\n",
    "plt.xlabel('Yaş')\n",
    "plt.ylabel('Maaş')\n",
    "plt.legend()\n",
    "plt.show()"
   ]
  },
  {
   "cell_type": "markdown",
   "id": "8942ac0c",
   "metadata": {},
   "source": [
    "#### Grafikte de görüldüğü gibi 7 adet kırmızı bölgede, 3 adet yeşil bölgede hatalı sınıflandırma var."
   ]
  }
 ],
 "metadata": {
  "kernelspec": {
   "display_name": "Python 3 (ipykernel)",
   "language": "python",
   "name": "python3"
  },
  "language_info": {
   "codemirror_mode": {
    "name": "ipython",
    "version": 3
   },
   "file_extension": ".py",
   "mimetype": "text/x-python",
   "name": "python",
   "nbconvert_exporter": "python",
   "pygments_lexer": "ipython3",
   "version": "3.11.5"
  }
 },
 "nbformat": 4,
 "nbformat_minor": 5
}
